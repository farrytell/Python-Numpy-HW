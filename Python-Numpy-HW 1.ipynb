{
 "cells": [
  {
   "cell_type": "code",
   "execution_count": 22,
   "metadata": {},
   "outputs": [
    {
     "name": "stdout",
     "output_type": "stream",
     "text": [
      "numpy version =  1.14.0\n",
      "首數為 0，尾數為 20，公差為 1 的數列 =  [ 0  1  2  3  4  5  6  7  8  9 10 11 12 13 14 15 16 17 18 19 20]\n",
      "以上數列取出偶數 =  [ 0  2  4  6  8 10 12 14 16 18 20]\n",
      "取出 3 的倍數 =  [ 0  3  6  9 12 15 18]\n"
     ]
    }
   ],
   "source": [
    "import numpy as np\n",
    "a = np.__version__\n",
    "print(\"numpy version = \",a)\n",
    "\n",
    "b = np.arange(0, 21, 1)\n",
    "c = np.arange(0, 21, 2)\n",
    "d = np.arange(0, 21, 3)\n",
    "\n",
    "print(\"首數為 0，尾數為 20，公差為 1 的數列 = \",b)\n",
    "print(\"以上數列取出偶數 = \",c)\n",
    "print(\"取出 3 的倍數 = \",d)"
   ]
  },
  {
   "cell_type": "code",
   "execution_count": null,
   "metadata": {},
   "outputs": [],
   "source": []
  }
 ],
 "metadata": {
  "kernelspec": {
   "display_name": "Python 3",
   "language": "python",
   "name": "python3"
  },
  "language_info": {
   "codemirror_mode": {
    "name": "ipython",
    "version": 3
   },
   "file_extension": ".py",
   "mimetype": "text/x-python",
   "name": "python",
   "nbconvert_exporter": "python",
   "pygments_lexer": "ipython3",
   "version": "3.6.4"
  }
 },
 "nbformat": 4,
 "nbformat_minor": 2
}
