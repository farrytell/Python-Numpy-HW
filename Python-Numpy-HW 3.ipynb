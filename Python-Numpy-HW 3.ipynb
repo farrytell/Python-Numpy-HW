{
 "cells": [
  {
   "cell_type": "code",
   "execution_count": 29,
   "metadata": {},
   "outputs": [
    {
     "name": "stdout",
     "output_type": "stream",
     "text": [
      "正常的談話的聲壓為 20000 微巴斯卡，請問多少分貝?\n",
      "60.0 倍\n"
     ]
    }
   ],
   "source": [
    "print(\"正常的談話的聲壓為 20000 微巴斯卡，請問多少分貝?\")\n",
    "import numpy as np\n",
    "V1 = 20000\n",
    "V0 = 20\n",
    "a = np.divide(V1, V0)\n",
    "b = np.log10(a)\n",
    "c = np.multiply(b,20)\n",
    "print((c),\"倍\")"
   ]
  },
  {
   "cell_type": "code",
   "execution_count": 26,
   "metadata": {},
   "outputs": [
    {
     "name": "stdout",
     "output_type": "stream",
     "text": [
      "30分貝聲押計算\n",
      "632.4555320336758 微巴斯卡\n"
     ]
    }
   ],
   "source": [
    "print(\"30分貝聲押計算\")\n",
    "Gdb = 30\n",
    "V300 = 20\n",
    "d = np.divide(Gdb, 20)\n",
    "e = np.power(10, d)\n",
    "f = np.multiply(e,V300)\n",
    "print(f,\"微巴斯卡\")"
   ]
  },
  {
   "cell_type": "code",
   "execution_count": 18,
   "metadata": {},
   "outputs": [
    {
     "name": "stdout",
     "output_type": "stream",
     "text": [
      "50分貝聲押計算\n",
      "6324.555320336759\n"
     ]
    }
   ],
   "source": [
    "print(\"50分貝聲押計算\")\n",
    "Gdb = 50\n",
    "V500 = 20\n",
    "g = np.divide(Gdb, 20)\n",
    "h = np.power(10, g)\n",
    "i = np.multiply(h,V500)\n",
    "print((i,\"微巴斯卡\"))"
   ]
  },
  {
   "cell_type": "code",
   "execution_count": 24,
   "metadata": {},
   "outputs": [
    {
     "name": "stdout",
     "output_type": "stream",
     "text": [
      "30 分貝的聲壓會是 50 分貝的幾倍?\n",
      "0.09999999999999999 倍\n"
     ]
    }
   ],
   "source": [
    "print(\"30 分貝的聲壓會是 50 分貝的幾倍?\")\n",
    "j = np.divide(f, i)\n",
    "print((j),\"倍\")"
   ]
  },
  {
   "cell_type": "code",
   "execution_count": null,
   "metadata": {},
   "outputs": [],
   "source": []
  }
 ],
 "metadata": {
  "kernelspec": {
   "display_name": "Python 3",
   "language": "python",
   "name": "python3"
  },
  "language_info": {
   "codemirror_mode": {
    "name": "ipython",
    "version": 3
   },
   "file_extension": ".py",
   "mimetype": "text/x-python",
   "name": "python",
   "nbconvert_exporter": "python",
   "pygments_lexer": "ipython3",
   "version": "3.6.4"
  }
 },
 "nbformat": 4,
 "nbformat_minor": 2
}
