{
 "cells": [
  {
   "cell_type": "code",
   "execution_count": 25,
   "metadata": {},
   "outputs": [
    {
     "name": "stdout",
     "output_type": "stream",
     "text": [
      "有多少學生英文成績比數學成績高？\n",
      "[False  True  True False False  True]\n",
      "3 位\n"
     ]
    }
   ],
   "source": [
    "print('有多少學生英文成績比數學成績高？')\n",
    "e = np.greater(a,b)\n",
    "print(e)\n",
    "f = np.array([False , True , True , False , False , True])\n",
    "g = np.count_nonzero(f ==  True)\n",
    "print(g,\"位\")"
   ]
  },
  {
   "cell_type": "code",
   "execution_count": 41,
   "metadata": {},
   "outputs": [
    {
     "name": "stdout",
     "output_type": "stream",
     "text": [
      "是否全班同學最高分都是國文？\n",
      "由國文成績與數學成績比較\n",
      "[ True  True  True  True  True  True]\n",
      "均以國文成績較數學成績高\n",
      "=====================================\n",
      "由國文成績與英文成績比較\n",
      "[ True  True  True  True  True  True]\n",
      "均以國文成績較英文成績高\n",
      "故全班同學最高分都是國文\n"
     ]
    }
   ],
   "source": [
    "import numpy as np\n",
    "\n",
    "\n",
    "a = english_score = np.array([55,89,76,65,48,70])\n",
    "\n",
    "b = math_score =    np.array([60,85,60,68,55,60])\n",
    "\n",
    "c = chinese_score = np.array([65,90,82,72,66,77])\n",
    "\n",
    "d = np.greater(c,b)\n",
    "print('是否全班同學最高分都是國文？')\n",
    "print('由國文成績與數學成績比較')\n",
    "print(d)\n",
    "print('均以國文成績較數學成績高')\n",
    "print('=====================================')\n",
    "print('由國文成績與英文成績比較')\n",
    "h = np.greater(c,a)\n",
    "print(h)\n",
    "print('均以國文成績較英文成績高')\n",
    "print('故全班同學最高分都是國文')"
   ]
  }
 ],
 "metadata": {
  "kernelspec": {
   "display_name": "Python 3",
   "language": "python",
   "name": "python3"
  },
  "language_info": {
   "codemirror_mode": {
    "name": "ipython",
    "version": 3
   },
   "file_extension": ".py",
   "mimetype": "text/x-python",
   "name": "python",
   "nbconvert_exporter": "python",
   "pygments_lexer": "ipython3",
   "version": "3.6.4"
  }
 },
 "nbformat": 4,
 "nbformat_minor": 2
}
